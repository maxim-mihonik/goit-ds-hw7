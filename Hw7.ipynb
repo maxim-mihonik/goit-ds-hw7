{
 "cells": [
  {
   "cell_type": "code",
   "execution_count": 1,
   "metadata": {},
   "outputs": [],
   "source": [
    "from surprise import SVD, SVDpp, NMF\n",
    "from surprise import Dataset\n",
    "from surprise.model_selection import cross_validate, train_test_split\n",
    "from surprise import accuracy\n",
    "import pandas as pd\n",
    "import numpy as np"
   ]
  },
  {
   "cell_type": "markdown",
   "metadata": {},
   "source": [
    "Завантажимо датасет, побудуємо повний, тренувальний та тестовий сети"
   ]
  },
  {
   "cell_type": "code",
   "execution_count": 2,
   "metadata": {},
   "outputs": [],
   "source": [
    "# Завантажуємо вбудований датасет\n",
    "ds = Dataset.load_builtin(\"ml-100k\", prompt=False)\n",
    "full_set = ds.build_full_trainset()\n",
    "train_set, test_set = train_test_split(ds, 0.1)"
   ]
  },
  {
   "cell_type": "code",
   "execution_count": 3,
   "metadata": {},
   "outputs": [],
   "source": [
    "# Тестовий сет - масив тюплів user, item, raiting\n",
    "# Для зменшення виводу при порівнянні різних моделей візьмемо перших 10\n",
    "test_10 = test_set[:10]"
   ]
  },
  {
   "cell_type": "markdown",
   "metadata": {},
   "source": [
    "Спробуємо створити першу модель та оцінити її за допомогою крос-валідації"
   ]
  },
  {
   "cell_type": "code",
   "execution_count": 4,
   "metadata": {},
   "outputs": [
    {
     "name": "stdout",
     "output_type": "stream",
     "text": [
      "Evaluating RMSE, MAE, MSE of algorithm SVD on 5 split(s).\n",
      "\n",
      "                  Fold 1  Fold 2  Fold 3  Fold 4  Fold 5  Mean    Std     \n",
      "RMSE (testset)    0.9318  0.9419  0.9406  0.9386  0.9317  0.9369  0.0043  \n",
      "MAE (testset)     0.7350  0.7432  0.7385  0.7407  0.7348  0.7384  0.0033  \n",
      "MSE (testset)     0.8683  0.8872  0.8847  0.8809  0.8681  0.8778  0.0081  \n",
      "Fit time          0.96    0.99    1.04    1.03    1.03    1.01    0.03    \n",
      "Test time         0.15    0.18    0.21    0.12    0.19    0.17    0.03    \n"
     ]
    }
   ],
   "source": [
    "model_SVD = SVD()\n",
    "res = cross_validate(model_SVD, ds, measures=[\"rmse\", \"mae\", \"mse\"], cv=5, verbose=True)"
   ]
  },
  {
   "cell_type": "markdown",
   "metadata": {},
   "source": [
    "Оцінимо також інші алгоритми за тими самими метриками та умовами"
   ]
  },
  {
   "cell_type": "code",
   "execution_count": 6,
   "metadata": {},
   "outputs": [
    {
     "name": "stdout",
     "output_type": "stream",
     "text": [
      "Evaluating RMSE, MAE, MSE of algorithm SVDpp on 5 split(s).\n",
      "\n",
      "                  Fold 1  Fold 2  Fold 3  Fold 4  Fold 5  Mean    Std     \n",
      "RMSE (testset)    0.9215  0.9186  0.9244  0.9173  0.9086  0.9181  0.0053  \n",
      "MAE (testset)     0.7239  0.7188  0.7249  0.7202  0.7129  0.7201  0.0043  \n",
      "MSE (testset)     0.8492  0.8438  0.8544  0.8415  0.8256  0.8429  0.0098  \n",
      "Fit time          18.63   19.49   18.74   19.72   19.62   19.24   0.46    \n",
      "Test time         3.48    3.31    3.81    4.27    3.55    3.68    0.33    \n",
      "Evaluating RMSE, MAE, MSE of algorithm NMF on 5 split(s).\n",
      "\n",
      "                  Fold 1  Fold 2  Fold 3  Fold 4  Fold 5  Mean    Std     \n",
      "RMSE (testset)    0.9659  0.9662  0.9556  0.9708  0.9625  0.9642  0.0051  \n",
      "MAE (testset)     0.7601  0.7604  0.7497  0.7607  0.7557  0.7573  0.0042  \n",
      "MSE (testset)     0.9330  0.9334  0.9131  0.9425  0.9265  0.9297  0.0097  \n",
      "Fit time          1.62    1.80    1.66    2.00    1.76    1.77    0.13    \n",
      "Test time         0.12    0.11    0.13    0.14    0.21    0.14    0.04    \n"
     ]
    }
   ],
   "source": [
    "models_list = [SVDpp(), NMF()]\n",
    "\n",
    "for model in models_list:\n",
    "    res = cross_validate(model, ds, measures=[\"rmse\", \"mae\", \"mse\"], cv=5, verbose=True)"
   ]
  },
  {
   "cell_type": "markdown",
   "metadata": {},
   "source": [
    "Як бачимо, \"з коробки\" SVD++ показує найкращі результати по точності, однак час тренування на порядок вищий ніж у інших алгоритмів.\n",
    "NMF показав найгірші результати: його точність найнижча, а час тренування не кращий ніж у SVD.\n",
    "\n",
    "Отже, зупинимось на двох алгоритмах (SVD та SVD++): в залежності від задачі нам може знадобитись висока швидкість при прийнятній точності чи висока точність незважаючи на час тренування. \n",
    "\n",
    "Спробуємо підібрати кращі гіперпараметри (на наше щастя для двох алгоритмів вони майже не відрізняються)"
   ]
  },
  {
   "cell_type": "code",
   "execution_count": 15,
   "metadata": {},
   "outputs": [
    {
     "name": "stdout",
     "output_type": "stream",
     "text": [
      "Best accuracy\n",
      "{'algo': 'SVD', 'fit_time': 0.4225654602050781, 'n_factors': 50, 'n_epochs': 10, 'lr': 0.01, 'reg_all': 0.3, 'RMSE': 0.9526904571862331}\n",
      "Best rapid\n",
      "{'algo': 'SVD', 'fit_time': 0.4225654602050781, 'n_factors': 50, 'n_epochs': 10, 'lr': 0.01, 'reg_all': 0.3, 'RMSE': 0.9526904571862331}\n",
      "Best accuracy\n",
      "{'algo': 'SVD', 'fit_time': 0.43748135566711427, 'n_factors': 50, 'n_epochs': 10, 'lr': 0.01, 'reg_all': 0.02, 'RMSE': 0.9323438451004076}\n",
      "Best rapid\n",
      "{'algo': 'SVD', 'fit_time': 0.43748135566711427, 'n_factors': 50, 'n_epochs': 10, 'lr': 0.01, 'reg_all': 0.02, 'RMSE': 0.9323438451004076}\n",
      "Best accuracy\n",
      "{'algo': 'SVDpp', 'fit_time': 19.810650062561034, 'n_factors': 50, 'n_epochs': 10, 'lr': 0.01, 'reg_all': 0.02, 'RMSE': 0.9197139154912118}\n"
     ]
    }
   ],
   "source": [
    "n_factors_list = [50, 100, 200]\n",
    "n_epochs_list = [10, 20, 50]\n",
    "lr_list = [0.01, 0.005, 0.001, 0.0001]\n",
    "reg_list = [0.3, 0.02, 0.005]\n",
    "algos = [SVD, SVDpp]\n",
    "\n",
    "time_measure = 2 # Ми шукатимемо найточнішу модель і найточнішу серед швидких, швидкою будемо вважати модель, яка фітиться менше 2 секунд\n",
    "\n",
    "best_rapid = {\"algo\": None, \"fit_time\": 100, \"n_factors\": 0, \"n_epochs\": 0, \"lr\": 0, \"reg_all\": 0, \"RMSE\": 500}\n",
    "best_acc = {\"algo\": None, \"fit_time\": 100, \"n_factors\": 0, \"n_epochs\": 0, \"lr\": 0, \"reg_all\": 0, \"RMSE\": 500}\n",
    "\n",
    "for algo in algos:\n",
    "    for n_factors in n_factors_list:\n",
    "        for n_epochs in n_epochs_list:\n",
    "            for lr in lr_list:\n",
    "                for reg_all in reg_list:\n",
    "                    if True==False:\n",
    "                        cur_algo = SVD(n_factors=n_factors, n_epochs=n_epochs, lr_all=lr, reg_all=reg_all)\n",
    "                    cur_algo = algo(n_factors=n_factors, n_epochs=n_epochs, lr_all=lr, reg_all=reg_all)\n",
    "                    res = cross_validate(cur_algo, ds, measures=[\"rmse\", \"mae\", \"mse\"], cv=5, verbose=False)\n",
    "                    mean_time = np.array(res[\"fit_time\"]).mean()\n",
    "                    mean_rmse = np.array(res[\"test_rmse\"]).mean()\n",
    "\n",
    "                    if mean_rmse < best_acc[\"RMSE\"]:\n",
    "                        best_acc[\"algo\"] = cur_algo.__class__.__name__\n",
    "                        best_acc[\"fit_time\"] = mean_time\n",
    "                        best_acc[\"lr\"] = lr\n",
    "                        best_acc[\"n_epochs\"] = n_epochs\n",
    "                        best_acc[\"n_factors\"] = n_factors\n",
    "                        best_acc[\"reg_all\"] = reg_all\n",
    "                        best_acc[\"RMSE\"] = mean_rmse\n",
    "\n",
    "                        print(\"Best accuracy\")\n",
    "                        print(best_acc)\n",
    "                    \n",
    "                    if mean_time < time_measure and mean_rmse < best_rapid[\"RMSE\"]:\n",
    "                        best_rapid[\"algo\"] = cur_algo.__class__.__name__\n",
    "                        best_rapid[\"fit_time\"] = mean_time\n",
    "                        best_rapid[\"lr\"] = lr\n",
    "                        best_rapid[\"n_epochs\"] = n_epochs\n",
    "                        best_rapid[\"n_factors\"] = n_factors\n",
    "                        best_rapid[\"reg_all\"] = reg_all\n",
    "                        best_rapid[\"RMSE\"] = mean_rmse\n",
    "\n",
    "                        print(\"Best rapid\")\n",
    "                        print(best_rapid)\n",
    "\n"
   ]
  },
  {
   "cell_type": "markdown",
   "metadata": {},
   "source": [
    "Збережемо вивід останнього кроку, адже ще раз чекати 18 годин - задоволення таке собі\n",
    "\n",
    "\n",
    "Best accuracy\n",
    "\n",
    "{'algo': 'SVD', 'fit_time': 0.4225654602050781, 'n_factors': 50, 'n_epochs': 10, 'lr': 0.01, 'reg_all': 0.3, 'RMSE': 0.9526904571862331}\n",
    "\n",
    "Best rapid\n",
    "\n",
    "{'algo': 'SVD', 'fit_time': 0.4225654602050781, 'n_factors': 50, 'n_epochs': 10, 'lr': 0.01, 'reg_all': 0.3, 'RMSE': 0.9526904571862331}\n",
    "\n",
    "Best accuracy\n",
    "\n",
    "{'algo': 'SVD', 'fit_time': 0.43748135566711427, 'n_factors': 50, 'n_epochs': 10, 'lr': 0.01, 'reg_all': 0.02, 'RMSE': 0.9323438451004076}\n",
    "\n",
    "Best rapid\n",
    "\n",
    "{'algo': 'SVD', 'fit_time': 0.43748135566711427, 'n_factors': 50, 'n_epochs': 10, 'lr': 0.01, 'reg_all': 0.02, 'RMSE': 0.9323438451004076}\n",
    "\n",
    "Best accuracy\n",
    "\n",
    "{'algo': 'SVDpp', 'fit_time': 19.810650062561034, 'n_factors': 50, 'n_epochs': 10, 'lr': 0.01, 'reg_all': 0.02, 'RMSE': 0.9197139154912118}"
   ]
  },
  {
   "cell_type": "markdown",
   "metadata": {},
   "source": [
    "Також спробуємо знайти найоптимальніші параметри з використанням GridSearchCV.\n",
    "\n",
    "Враховуючи досвід попереднього кроку (тривалість пошуку), обмежимо кількість параметрів пошуку. "
   ]
  },
  {
   "cell_type": "code",
   "execution_count": 20,
   "metadata": {},
   "outputs": [
    {
     "name": "stderr",
     "output_type": "stream",
     "text": [
      "[Parallel(n_jobs=-1)]: Using backend LokyBackend with 8 concurrent workers.\n",
      "[Parallel(n_jobs=-1)]: Done  25 tasks      | elapsed:   36.2s\n"
     ]
    },
    {
     "name": "stdout",
     "output_type": "stream",
     "text": [
      "Best score {'rmse': 0.9307776604070455}\n",
      "Best params {'rmse': {'lr_all': 0.01, 'n_epochs': 100, 'reg_all': 0.2}}\n"
     ]
    },
    {
     "name": "stderr",
     "output_type": "stream",
     "text": [
      "[Parallel(n_jobs=-1)]: Done  90 out of  90 | elapsed:  2.8min finished\n"
     ]
    }
   ],
   "source": [
    "params_gs = {\"lr_all\": [0.001, 0.01], \"n_epochs\": [10, 50, 100], \"reg_all\": [0.2, 0.002, 0.0001]}\n",
    "\n",
    "from surprise.model_selection import GridSearchCV\n",
    "gs = GridSearchCV(SVD, params_gs, measures=[\"RMSE\"], cv=5, joblib_verbose=2, n_jobs=-1)\n",
    "\n",
    "gs.fit(ds)\n",
    "\n",
    "print(f\"Best score {gs.best_score}\")\n",
    "print(f\"Best params {gs.best_params}\")"
   ]
  },
  {
   "cell_type": "markdown",
   "metadata": {},
   "source": [
    "Отже, маємо 90 виконаних завдань, що відповідає 2 (кількість варіантів lr) * 3 (кількість варіантів епох) * 3 (кількість варіантів регуляризації) * 5 (кількість фолдів). З цього ми можемо:\n",
    "1. Опосередковано визначити середній час навчання (близько 1,5 секунди)\n",
    "2. Приблизно (з точністю до слона, адже на різних гіперпараметрах час навчання може суттєво різнитись) оцінити час пошуку параметрів, знаючи середній час навчання для одного набору параметрів\n",
    "\n",
    "Отже, звузимо пошук по сітці для SVD++ з тим, щоб він виконався у прийнятні терміни"
   ]
  },
  {
   "cell_type": "code",
   "execution_count": 21,
   "metadata": {},
   "outputs": [
    {
     "name": "stderr",
     "output_type": "stream",
     "text": [
      "[Parallel(n_jobs=-1)]: Using backend LokyBackend with 8 concurrent workers.\n",
      "[Parallel(n_jobs=-1)]: Done   2 tasks      | elapsed:   29.2s\n",
      "[Parallel(n_jobs=-1)]: Done   9 tasks      | elapsed:  1.6min\n",
      "[Parallel(n_jobs=-1)]: Done  12 out of  24 | elapsed:  1.7min remaining:  1.7min\n",
      "[Parallel(n_jobs=-1)]: Done  15 out of  24 | elapsed:  2.2min remaining:  1.3min\n",
      "[Parallel(n_jobs=-1)]: Done  18 out of  24 | elapsed:  2.2min remaining:   43.5s\n",
      "[Parallel(n_jobs=-1)]: Done  21 out of  24 | elapsed:  3.4min remaining:   28.8s\n"
     ]
    },
    {
     "name": "stdout",
     "output_type": "stream",
     "text": [
      "Best score {'rmse': 0.925687827976405}\n",
      "Best params {'rmse': {'lr_all': 0.01, 'n_epochs': 10, 'reg_all': 0.002}}\n"
     ]
    },
    {
     "name": "stderr",
     "output_type": "stream",
     "text": [
      "[Parallel(n_jobs=-1)]: Done  24 out of  24 | elapsed:  3.4min remaining:    0.0s\n",
      "[Parallel(n_jobs=-1)]: Done  24 out of  24 | elapsed:  3.4min finished\n"
     ]
    }
   ],
   "source": [
    "params_gs = {\"lr_all\": [0.001, 0.01], \"n_epochs\": [10, 50], \"reg_all\": [0.2, 0.002]}\n",
    "\n",
    "from surprise.model_selection import GridSearchCV\n",
    "gs = GridSearchCV(SVDpp, params_gs, measures=[\"RMSE\"], cv=3, joblib_verbose=10, n_jobs=-1)\n",
    "\n",
    "gs.fit(ds)\n",
    "\n",
    "print(f\"Best score {gs.best_score}\")\n",
    "print(f\"Best params {gs.best_params}\")"
   ]
  },
  {
   "cell_type": "markdown",
   "metadata": {},
   "source": [
    "Результат невтішний: пошук виконався швидко, але найкращий результат гірший, ніж у пошуку, що виконувався вручну. Я пов'язав би це з кількістю фолдів: на кожному етапі навчальна вибірка менша, а отже і результат навчання гірший. Спробуємо ще раз"
   ]
  },
  {
   "cell_type": "code",
   "execution_count": 22,
   "metadata": {},
   "outputs": [
    {
     "name": "stderr",
     "output_type": "stream",
     "text": [
      "[Parallel(n_jobs=-1)]: Using backend LokyBackend with 8 concurrent workers.\n",
      "[Parallel(n_jobs=-1)]: Done   2 tasks      | elapsed:   33.8s\n",
      "[Parallel(n_jobs=-1)]: Done   9 tasks      | elapsed:  1.1min\n",
      "[Parallel(n_jobs=-1)]: Done  16 tasks      | elapsed:  3.1min\n",
      "[Parallel(n_jobs=-1)]: Done  25 tasks      | elapsed:  4.5min\n",
      "[Parallel(n_jobs=-1)]: Done  30 out of  40 | elapsed:  5.9min remaining:  2.0min\n",
      "[Parallel(n_jobs=-1)]: Done  35 out of  40 | elapsed:  7.4min remaining:  1.1min\n"
     ]
    },
    {
     "name": "stdout",
     "output_type": "stream",
     "text": [
      "Best score {'rmse': 0.9160688551927472}\n",
      "Best params {'rmse': {'lr_all': 0.01, 'n_epochs': 10, 'reg_all': 0.002}}\n"
     ]
    },
    {
     "name": "stderr",
     "output_type": "stream",
     "text": [
      "[Parallel(n_jobs=-1)]: Done  40 out of  40 | elapsed:  8.8min remaining:    0.0s\n",
      "[Parallel(n_jobs=-1)]: Done  40 out of  40 | elapsed:  8.8min finished\n"
     ]
    }
   ],
   "source": [
    "params_gs = {\"lr_all\": [0.001, 0.01], \"n_epochs\": [10, 50], \"reg_all\": [0.2, 0.002]}\n",
    "\n",
    "from surprise.model_selection import GridSearchCV\n",
    "gs = GridSearchCV(SVDpp, params_gs, measures=[\"RMSE\"], cv=5, joblib_verbose=10, n_jobs=-1)\n",
    "\n",
    "gs.fit(ds)\n",
    "\n",
    "print(f\"Best score {gs.best_score}\")\n",
    "print(f\"Best params {gs.best_params}\")"
   ]
  },
  {
   "cell_type": "code",
   "execution_count": 29,
   "metadata": {},
   "outputs": [
    {
     "data": {
      "text/html": [
       "<div>\n",
       "<style scoped>\n",
       "    .dataframe tbody tr th:only-of-type {\n",
       "        vertical-align: middle;\n",
       "    }\n",
       "\n",
       "    .dataframe tbody tr th {\n",
       "        vertical-align: top;\n",
       "    }\n",
       "\n",
       "    .dataframe thead th {\n",
       "        text-align: right;\n",
       "    }\n",
       "</style>\n",
       "<table border=\"1\" class=\"dataframe\">\n",
       "  <thead>\n",
       "    <tr style=\"text-align: right;\">\n",
       "      <th></th>\n",
       "      <th>split0_test_rmse</th>\n",
       "      <th>split1_test_rmse</th>\n",
       "      <th>split2_test_rmse</th>\n",
       "      <th>split3_test_rmse</th>\n",
       "      <th>split4_test_rmse</th>\n",
       "      <th>mean_test_rmse</th>\n",
       "      <th>std_test_rmse</th>\n",
       "      <th>rank_test_rmse</th>\n",
       "      <th>mean_fit_time</th>\n",
       "      <th>std_fit_time</th>\n",
       "      <th>mean_test_time</th>\n",
       "      <th>std_test_time</th>\n",
       "      <th>params</th>\n",
       "      <th>param_lr_all</th>\n",
       "      <th>param_n_epochs</th>\n",
       "      <th>param_reg_all</th>\n",
       "    </tr>\n",
       "  </thead>\n",
       "  <tbody>\n",
       "    <tr>\n",
       "      <th>0</th>\n",
       "      <td>0.990761</td>\n",
       "      <td>0.983251</td>\n",
       "      <td>0.978748</td>\n",
       "      <td>0.982933</td>\n",
       "      <td>0.979832</td>\n",
       "      <td>0.983105</td>\n",
       "      <td>0.004204</td>\n",
       "      <td>7</td>\n",
       "      <td>22.328686</td>\n",
       "      <td>0.317584</td>\n",
       "      <td>9.500512</td>\n",
       "      <td>0.108123</td>\n",
       "      <td>{'lr_all': 0.001, 'n_epochs': 10, 'reg_all': 0.2}</td>\n",
       "      <td>0.001</td>\n",
       "      <td>10</td>\n",
       "      <td>0.200</td>\n",
       "    </tr>\n",
       "    <tr>\n",
       "      <th>1</th>\n",
       "      <td>0.973245</td>\n",
       "      <td>0.965921</td>\n",
       "      <td>0.962332</td>\n",
       "      <td>0.965249</td>\n",
       "      <td>0.963135</td>\n",
       "      <td>0.965976</td>\n",
       "      <td>0.003866</td>\n",
       "      <td>6</td>\n",
       "      <td>23.758709</td>\n",
       "      <td>1.452256</td>\n",
       "      <td>9.233275</td>\n",
       "      <td>0.466685</td>\n",
       "      <td>{'lr_all': 0.001, 'n_epochs': 10, 'reg_all': 0...</td>\n",
       "      <td>0.001</td>\n",
       "      <td>10</td>\n",
       "      <td>0.002</td>\n",
       "    </tr>\n",
       "    <tr>\n",
       "      <th>2</th>\n",
       "      <td>0.957953</td>\n",
       "      <td>0.949109</td>\n",
       "      <td>0.947521</td>\n",
       "      <td>0.950527</td>\n",
       "      <td>0.947475</td>\n",
       "      <td>0.950517</td>\n",
       "      <td>0.003886</td>\n",
       "      <td>5</td>\n",
       "      <td>136.842884</td>\n",
       "      <td>1.156854</td>\n",
       "      <td>12.482302</td>\n",
       "      <td>0.818488</td>\n",
       "      <td>{'lr_all': 0.001, 'n_epochs': 50, 'reg_all': 0.2}</td>\n",
       "      <td>0.001</td>\n",
       "      <td>50</td>\n",
       "      <td>0.200</td>\n",
       "    </tr>\n",
       "    <tr>\n",
       "      <th>3</th>\n",
       "      <td>0.927350</td>\n",
       "      <td>0.919366</td>\n",
       "      <td>0.921359</td>\n",
       "      <td>0.920666</td>\n",
       "      <td>0.918815</td>\n",
       "      <td>0.921511</td>\n",
       "      <td>0.003056</td>\n",
       "      <td>2</td>\n",
       "      <td>148.332527</td>\n",
       "      <td>8.162144</td>\n",
       "      <td>11.620702</td>\n",
       "      <td>0.603335</td>\n",
       "      <td>{'lr_all': 0.001, 'n_epochs': 50, 'reg_all': 0...</td>\n",
       "      <td>0.001</td>\n",
       "      <td>50</td>\n",
       "      <td>0.002</td>\n",
       "    </tr>\n",
       "    <tr>\n",
       "      <th>4</th>\n",
       "      <td>0.953919</td>\n",
       "      <td>0.944718</td>\n",
       "      <td>0.944164</td>\n",
       "      <td>0.946944</td>\n",
       "      <td>0.944627</td>\n",
       "      <td>0.946874</td>\n",
       "      <td>0.003652</td>\n",
       "      <td>4</td>\n",
       "      <td>30.592524</td>\n",
       "      <td>1.038900</td>\n",
       "      <td>12.974686</td>\n",
       "      <td>0.909886</td>\n",
       "      <td>{'lr_all': 0.01, 'n_epochs': 10, 'reg_all': 0.2}</td>\n",
       "      <td>0.010</td>\n",
       "      <td>10</td>\n",
       "      <td>0.200</td>\n",
       "    </tr>\n",
       "    <tr>\n",
       "      <th>5</th>\n",
       "      <td>0.921112</td>\n",
       "      <td>0.915428</td>\n",
       "      <td>0.914689</td>\n",
       "      <td>0.914902</td>\n",
       "      <td>0.914213</td>\n",
       "      <td>0.916069</td>\n",
       "      <td>0.002552</td>\n",
       "      <td>1</td>\n",
       "      <td>32.294980</td>\n",
       "      <td>0.397992</td>\n",
       "      <td>12.344384</td>\n",
       "      <td>0.626064</td>\n",
       "      <td>{'lr_all': 0.01, 'n_epochs': 10, 'reg_all': 0....</td>\n",
       "      <td>0.010</td>\n",
       "      <td>10</td>\n",
       "      <td>0.002</td>\n",
       "    </tr>\n",
       "    <tr>\n",
       "      <th>6</th>\n",
       "      <td>0.938879</td>\n",
       "      <td>0.929322</td>\n",
       "      <td>0.930130</td>\n",
       "      <td>0.932355</td>\n",
       "      <td>0.930168</td>\n",
       "      <td>0.932171</td>\n",
       "      <td>0.003502</td>\n",
       "      <td>3</td>\n",
       "      <td>160.518949</td>\n",
       "      <td>0.942412</td>\n",
       "      <td>11.635493</td>\n",
       "      <td>0.182898</td>\n",
       "      <td>{'lr_all': 0.01, 'n_epochs': 50, 'reg_all': 0.2}</td>\n",
       "      <td>0.010</td>\n",
       "      <td>50</td>\n",
       "      <td>0.200</td>\n",
       "    </tr>\n",
       "    <tr>\n",
       "      <th>7</th>\n",
       "      <td>1.051366</td>\n",
       "      <td>1.042059</td>\n",
       "      <td>1.046318</td>\n",
       "      <td>1.045654</td>\n",
       "      <td>1.054994</td>\n",
       "      <td>1.048078</td>\n",
       "      <td>0.004558</td>\n",
       "      <td>8</td>\n",
       "      <td>116.525917</td>\n",
       "      <td>32.270637</td>\n",
       "      <td>7.012938</td>\n",
       "      <td>2.381240</td>\n",
       "      <td>{'lr_all': 0.01, 'n_epochs': 50, 'reg_all': 0....</td>\n",
       "      <td>0.010</td>\n",
       "      <td>50</td>\n",
       "      <td>0.002</td>\n",
       "    </tr>\n",
       "  </tbody>\n",
       "</table>\n",
       "</div>"
      ],
      "text/plain": [
       "   split0_test_rmse  split1_test_rmse  split2_test_rmse  split3_test_rmse  \\\n",
       "0          0.990761          0.983251          0.978748          0.982933   \n",
       "1          0.973245          0.965921          0.962332          0.965249   \n",
       "2          0.957953          0.949109          0.947521          0.950527   \n",
       "3          0.927350          0.919366          0.921359          0.920666   \n",
       "4          0.953919          0.944718          0.944164          0.946944   \n",
       "5          0.921112          0.915428          0.914689          0.914902   \n",
       "6          0.938879          0.929322          0.930130          0.932355   \n",
       "7          1.051366          1.042059          1.046318          1.045654   \n",
       "\n",
       "   split4_test_rmse  mean_test_rmse  std_test_rmse  rank_test_rmse  \\\n",
       "0          0.979832        0.983105       0.004204               7   \n",
       "1          0.963135        0.965976       0.003866               6   \n",
       "2          0.947475        0.950517       0.003886               5   \n",
       "3          0.918815        0.921511       0.003056               2   \n",
       "4          0.944627        0.946874       0.003652               4   \n",
       "5          0.914213        0.916069       0.002552               1   \n",
       "6          0.930168        0.932171       0.003502               3   \n",
       "7          1.054994        1.048078       0.004558               8   \n",
       "\n",
       "   mean_fit_time  std_fit_time  mean_test_time  std_test_time  \\\n",
       "0      22.328686      0.317584        9.500512       0.108123   \n",
       "1      23.758709      1.452256        9.233275       0.466685   \n",
       "2     136.842884      1.156854       12.482302       0.818488   \n",
       "3     148.332527      8.162144       11.620702       0.603335   \n",
       "4      30.592524      1.038900       12.974686       0.909886   \n",
       "5      32.294980      0.397992       12.344384       0.626064   \n",
       "6     160.518949      0.942412       11.635493       0.182898   \n",
       "7     116.525917     32.270637        7.012938       2.381240   \n",
       "\n",
       "                                              params  param_lr_all  \\\n",
       "0  {'lr_all': 0.001, 'n_epochs': 10, 'reg_all': 0.2}         0.001   \n",
       "1  {'lr_all': 0.001, 'n_epochs': 10, 'reg_all': 0...         0.001   \n",
       "2  {'lr_all': 0.001, 'n_epochs': 50, 'reg_all': 0.2}         0.001   \n",
       "3  {'lr_all': 0.001, 'n_epochs': 50, 'reg_all': 0...         0.001   \n",
       "4   {'lr_all': 0.01, 'n_epochs': 10, 'reg_all': 0.2}         0.010   \n",
       "5  {'lr_all': 0.01, 'n_epochs': 10, 'reg_all': 0....         0.010   \n",
       "6   {'lr_all': 0.01, 'n_epochs': 50, 'reg_all': 0.2}         0.010   \n",
       "7  {'lr_all': 0.01, 'n_epochs': 50, 'reg_all': 0....         0.010   \n",
       "\n",
       "   param_n_epochs  param_reg_all  \n",
       "0              10          0.200  \n",
       "1              10          0.002  \n",
       "2              50          0.200  \n",
       "3              50          0.002  \n",
       "4              10          0.200  \n",
       "5              10          0.002  \n",
       "6              50          0.200  \n",
       "7              50          0.002  "
      ]
     },
     "execution_count": 29,
     "metadata": {},
     "output_type": "execute_result"
    }
   ],
   "source": [
    "res_df = pd.DataFrame.from_dict(gs.cv_results)\n",
    "res_df\n"
   ]
  },
  {
   "cell_type": "markdown",
   "metadata": {},
   "source": [
    "cv_results надає нам додаткову інформацію по результатам оцінки, зокрема час навчання (якщо цей параметр буде критичним) та стандартне відхилення для похибки на тестових даних на фолдах (що певною мірою говорить про якість навчання)\n",
    "\n",
    "Наразі можемо обрати 2 моделі для подальших тестів:\n",
    "1. SVD n_factors: 50, n_epochs: 10, lr: 0.01, reg_all: 0.02, RMSE: 0.9323438451004076 як найшвидшу, якщо величина похибки буде прийнятною\n",
    "2. SVDpp lr_all: 0.01, n_epochs: 10, reg_all: 0.002, rmse: 0.9160688551927472 як найточнішу"
   ]
  },
  {
   "cell_type": "code",
   "execution_count": 30,
   "metadata": {},
   "outputs": [
    {
     "data": {
      "text/plain": [
       "<surprise.prediction_algorithms.matrix_factorization.SVD at 0x1fae6591880>"
      ]
     },
     "execution_count": 30,
     "metadata": {},
     "output_type": "execute_result"
    }
   ],
   "source": [
    "# Отже сворюємо моделі та вчимо їх\n",
    "rapid_SVD = SVD(n_factors=50, n_epochs=10, lr_all=0.01, reg_all=0.02)\n",
    "rapid_SVD.fit(train_set)"
   ]
  },
  {
   "cell_type": "code",
   "execution_count": 31,
   "metadata": {},
   "outputs": [
    {
     "data": {
      "text/plain": [
       "<surprise.prediction_algorithms.matrix_factorization.SVDpp at 0x1fb010bfbb0>"
      ]
     },
     "execution_count": 31,
     "metadata": {},
     "output_type": "execute_result"
    }
   ],
   "source": [
    "acc_SVDpp = SVDpp(n_epochs=10, lr_all=0.01, reg_all=0.02)\n",
    "acc_SVDpp.fit(train_set)"
   ]
  },
  {
   "cell_type": "code",
   "execution_count": 33,
   "metadata": {},
   "outputs": [
    {
     "name": "stdout",
     "output_type": "stream",
     "text": [
      "Швидкий SVD\n",
      "RMSE: 0.9372\n",
      "MSE: 0.8784\n",
      "Точний SVD++\n",
      "RMSE: 0.9220\n",
      "MSE: 0.8500\n"
     ]
    },
    {
     "data": {
      "text/plain": [
       "0.8500372424511963"
      ]
     },
     "execution_count": 33,
     "metadata": {},
     "output_type": "execute_result"
    }
   ],
   "source": [
    "# Здійснимо передбачення і оцінку rj;yj] моделі на тестових даних\n",
    "print(\"Швидкий SVD\")\n",
    "pred_train_svd = rapid_SVD.test(test_set)\n",
    "\n",
    "accuracy.rmse(pred_train_svd)\n",
    "accuracy.mse(pred_train_svd)\n",
    "\n",
    "print(\"Точний SVD++\")\n",
    "pred_train_svdpp = acc_SVDpp.test(test_set)\n",
    "\n",
    "accuracy.rmse(pred_train_svdpp)\n",
    "accuracy.mse(pred_train_svdpp)"
   ]
  },
  {
   "cell_type": "markdown",
   "metadata": {},
   "source": [
    "Маючи натреновані моделі, спробуємо зробити передбачення"
   ]
  },
  {
   "cell_type": "code",
   "execution_count": 40,
   "metadata": {},
   "outputs": [],
   "source": [
    "from collections import defaultdict\n",
    "\n",
    "def get_top_predictions(predictions, n=5):\n",
    "    # Створюємо словник, елементами якого є список \n",
    "    top_pred = defaultdict(list)\n",
    "    \n",
    "    # Передбачення - список тюплів, з яких нам потрібні uid, iid, est\n",
    "    for uid, iid, true_rating, est, smth in predictions:\n",
    "        top_pred[uid].append((iid, est))\n",
    "\n",
    "    # На даному етапі маємо словник, ключами якого є айді користувачів, а даними список тюплів айді фільму та передбаченої оцінки\n",
    "    # отже нам слід відсортувати кожен зі списків по оцінці і взяти n найвищих\n",
    "    for uid, pred_list in top_pred.items():\n",
    "        pred_list.sort(key=lambda x:x[1], reverse=True)\n",
    "        top_pred[uid] = pred_list[:n]\n",
    "\n",
    "    return top_pred\n",
    "\n",
    "\n"
   ]
  },
  {
   "cell_type": "code",
   "execution_count": 51,
   "metadata": {},
   "outputs": [
    {
     "data": {
      "text/plain": [
       "defaultdict(list,\n",
       "            {'196': [('12', 4.64099691300788),\n",
       "              ('483', 4.568624300933987),\n",
       "              ('408', 4.530250855743716),\n",
       "              ('178', 4.50927436337415),\n",
       "              ('64', 4.496384802570373),\n",
       "              ('318', 4.438268896682861),\n",
       "              ('50', 4.438240021587974),\n",
       "              ('427', 4.433056854893131),\n",
       "              ('169', 4.418319642759491),\n",
       "              ('114', 4.417667707949969)]})"
      ]
     },
     "execution_count": 51,
     "metadata": {},
     "output_type": "execute_result"
    }
   ],
   "source": [
    "small_test_set = [i for i in full_set.build_anti_testset() if i[0]==\"196\"]\n",
    "\n",
    "pred_rapid = rapid_SVD.test(small_test_set)\n",
    "pred_rapid_top = get_top_predictions(pred_rapid, 10)\n",
    "pred_rapid_top"
   ]
  },
  {
   "cell_type": "code",
   "execution_count": 52,
   "metadata": {},
   "outputs": [
    {
     "data": {
      "text/plain": [
       "defaultdict(list,\n",
       "            {'196': [('178', 4.474204903092372),\n",
       "              ('603', 4.468404627648023),\n",
       "              ('64', 4.462157113611034),\n",
       "              ('427', 4.445518155308937),\n",
       "              ('483', 4.443096290683881),\n",
       "              ('357', 4.424675802069754),\n",
       "              ('318', 4.412330169543648),\n",
       "              ('169', 4.40261665262087),\n",
       "              ('513', 4.400071662045988),\n",
       "              ('408', 4.3837670860165066)]})"
      ]
     },
     "execution_count": 52,
     "metadata": {},
     "output_type": "execute_result"
    }
   ],
   "source": [
    "pred_acc_SVDpp = acc_SVDpp.test(small_test_set)\n",
    "pred_acc_top = get_top_predictions(pred_acc_SVDpp, 10)\n",
    "pred_acc_top"
   ]
  },
  {
   "cell_type": "markdown",
   "metadata": {},
   "source": [
    "Деякі передбачення для різних моделей збігаються"
   ]
  },
  {
   "cell_type": "markdown",
   "metadata": {},
   "source": [
    "Спробуємо задачу з зірочкою"
   ]
  }
 ],
 "metadata": {
  "kernelspec": {
   "display_name": "Python 3",
   "language": "python",
   "name": "python3"
  },
  "language_info": {
   "codemirror_mode": {
    "name": "ipython",
    "version": 3
   },
   "file_extension": ".py",
   "mimetype": "text/x-python",
   "name": "python",
   "nbconvert_exporter": "python",
   "pygments_lexer": "ipython3",
   "version": "3.9.8"
  },
  "orig_nbformat": 4
 },
 "nbformat": 4,
 "nbformat_minor": 2
}
